{
 "cells": [
  {
   "cell_type": "code",
   "execution_count": null,
   "id": "initial_id",
   "metadata": {
    "collapsed": true
   },
   "outputs": [],
   "source": [
    ""
   ]
  },
  {
   "metadata": {},
   "cell_type": "code",
   "outputs": [],
   "execution_count": null,
   "source": [
    "from datetime import datetime\n",
    "\n",
    "import pandas as pd\n",
    "import wfdb\n",
    "import os\n",
    "\n",
    "# Caminho base onde está a pasta \"ppg-database-but-ppg-2.0.0\"\n",
    "base_path = r\"C:\\Users\\sebas\\Downloads\\brno\"\n",
    "data_folder = os.path.join(base_path, \"ppg-database-but-ppg-2.0.0\")\n",
    "\n",
    "# 1. Ler os registos válidos com qualidade\n",
    "quality_df = pd.read_csv(os.path.join(base_path, \"quality-hr-ann.csv\"))\n",
    "# Filtrar apenas os PPG com qualidade (coluna 'Quality' == 1)\n",
    "quality_ppg_ids = [f\"{int(id_)}_PPG\" for id_ in quality_df[quality_df['Quality'] == 1]['ID'].values]\n",
    "print(f\"Número de registos PPG com qualidade: {len(quality_ppg_ids)}\")\n",
    "\n",
    "# 2. Ler os caminhos dos ficheiros PPG no RECORDS.txt\n",
    "with open(os.path.join(base_path, \"RECORDS.txt\"), \"r\") as f:\n",
    "    all_records = []\n",
    "\n",
    "    for line in f:\n",
    "        if line.strip() and line.strip().endswith(\"_PPG\"):\n",
    "            all_records.append(line.strip())\n",
    "\n",
    "print(f\"Número total de ficheiros PPG encontrados no RECORDS.txt: {len(all_records)}\")\n",
    "print(\"\\n--- VERIFICAÇÃO DE VARIÁVEIS ---\")\n",
    "\n",
    "print(f\"📌 base_path: {base_path}\")\n",
    "print(f\"📌 data_folder: {data_folder}\")\n",
    "\n",
    "print(f\"\\n✅ quality_ppg_ids (total {len(quality_ppg_ids)}):\")\n",
    "print(quality_ppg_ids[:10])  # mostrar apenas os primeiros 10\n",
    "\n",
    "print(f\"\\n✅ all_records (total {len(all_records)}):\")\n",
    "print(all_records[:10])  # mostrar os primeiros 10\n",
    "\n",
    "print(\"\\n🔎 Comparação direta entre nomes:\")\n",
    "for i in range(min(10, len(all_records))):\n",
    "    full_record = all_records[i]\n",
    "    record_name = os.path.basename(full_record)\n",
    "    match = record_name in quality_ppg_ids\n",
    "    print(f\"  - {record_name} {'✔️ MATCH' if match else '❌'}\")\n",
    "\n",
    "print(\"\\n--- FIM DA VERIFICAÇÃO ---\")\n",
    "\n",
    "# 3. Filtrar apenas os ficheiros PPG com qualidade\n",
    "for r in all_records:\n",
    "    # print(\"nome record: \" + r.split(\"/\")[0])\n",
    "    if r.split(\"/\")[0].strip() in quality_ppg_ids:\n",
    "        print(\"Sim\")\n",
    "\n",
    "valid_records = [r for r in all_records if os.path.basename(r) in quality_ppg_ids]\n",
    "print(f\"Número de ficheiros PPG válidos: {len(valid_records)}\")\n",
    "# Lista para guardar os sinais\n",
    "ppg_data = []\n",
    "\n",
    "for record in valid_records:\n",
    "    full_path = os.path.join(data_folder, record)  # sem extensão!\n",
    "    try:\n",
    "        # Lê o registo PPG usando a biblioteca wfdb\n",
    "        signal, _ = wfdb.rdsamp(full_path)\n",
    "        # Se tiver mais que um canal, usar apenas o primeiro\n",
    "        ppg_values = signal[:, 0] if signal.ndim > 1 else signal\n",
    "        ppg_data.append(ppg_values)\n",
    "    except Exception as e:\n",
    "        print(f\"Erro ao ler {record}: {e}\")\n",
    "\n",
    "# Criar DataFrame\n",
    "df = pd.DataFrame(ppg_data)\n",
    "\n",
    "print(f\"\\nTotal de registos lidos: {len(df)}\")\n",
    "df.head()"
   ],
   "id": "a6558a319f4522c8"
  }
 ],
 "metadata": {
  "kernelspec": {
   "display_name": "Python 3",
   "language": "python",
   "name": "python3"
  },
  "language_info": {
   "codemirror_mode": {
    "name": "ipython",
    "version": 2
   },
   "file_extension": ".py",
   "mimetype": "text/x-python",
   "name": "python",
   "nbconvert_exporter": "python",
   "pygments_lexer": "ipython2",
   "version": "2.7.6"
  }
 },
 "nbformat": 4,
 "nbformat_minor": 5
}
