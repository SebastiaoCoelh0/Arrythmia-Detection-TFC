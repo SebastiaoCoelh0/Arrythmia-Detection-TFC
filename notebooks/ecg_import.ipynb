{
 "cells": [
  {
   "cell_type": "code",
   "id": "initial_id",
   "metadata": {
    "collapsed": true,
    "ExecuteTime": {
     "end_time": "2025-04-24T16:25:29.204896Z",
     "start_time": "2025-04-24T16:25:28.487793Z"
    }
   },
   "source": [
    "import pandas as pd\n",
    "import wfdb\n",
    "import os"
   ],
   "outputs": [],
   "execution_count": 1
  },
  {
   "metadata": {
    "ExecuteTime": {
     "end_time": "2025-04-24T16:32:36.916052Z",
     "start_time": "2025-04-24T16:28:05.896362Z"
    }
   },
   "cell_type": "code",
   "source": [
    "# Guardar caminho para os ficheiros do estudo \"A large scale 12-lead electrocardiogram database for arrhythmia study\"\n",
    "base_path = \"../data/WFDBRecords\"\n",
    "\n",
    "# Carregar paths dos registos\n",
    "with open(os.path.join(base_path, \"RECORDS.txt\")) as f:\n",
    "    record_paths = [line.strip() for line in f if line.strip()]\n",
    "\n",
    "dados = []\n",
    "\n",
    "# Percorrer todas as subpastas (ex: 01, 02, ..., 10)\n",
    "for dir_raiz in os.listdir(base_path):\n",
    "    print(f\"Loading: {dir_raiz} ...\")\n",
    "    raiz_path = os.path.join(base_path, dir_raiz)\n",
    "\n",
    "    if not os.path.isdir(raiz_path):\n",
    "        continue\n",
    "\n",
    "    # Percorrer cada sub-subpasta (ex: 010, 011, ...)\n",
    "    for subpasta in os.listdir(raiz_path):\n",
    "        sub_path = os.path.join(raiz_path, subpasta)\n",
    "\n",
    "        records_file = os.path.join(sub_path, \"RECORDS\")\n",
    "        if not os.path.exists(records_file):\n",
    "            continue\n",
    "\n",
    "        with open(records_file) as f:\n",
    "            registos = [linha.strip() for linha in f if linha.strip()]\n",
    "\n",
    "        for nome_registo in registos:\n",
    "            full_path = os.path.join(sub_path, nome_registo)\n",
    "\n",
    "            try:\n",
    "                record = wfdb.rdrecord(full_path)\n",
    "                sinal = record.p_signal[:, 0]  # canal 0\n",
    "                dados.append({\n",
    "                    \"record_id\": nome_registo,\n",
    "                    \"signal\": sinal.tolist()\n",
    "                })\n",
    "            except Exception as e:\n",
    "                print(f\"Erro ao ler {full_path}: {e}\")\n",
    "\n",
    "# Criar DataFrame\n",
    "df_ecg = pd.DataFrame(dados)\n",
    "print(df_ecg.head())\n",
    "print(f\"Total de registos carregados: {len(df_ecg)}\")"
   ],
   "id": "891774307665c21c",
   "outputs": [
    {
     "name": "stdout",
     "output_type": "stream",
     "text": [
      "Loading: 01 ...\n",
      "Erro ao ler WFDBRecords\\01\\019\\JS01052: time data '/' does not match format '%d/%m/%Y'\n",
      "Loading: 02 ...\n",
      "Loading: 03 ...\n",
      "Loading: 04 ...\n",
      "Loading: 05 ...\n",
      "Loading: 06 ...\n",
      "Loading: 07 ...\n",
      "Loading: 08 ...\n",
      "Loading: 09 ...\n",
      "Loading: 10 ...\n",
      "Loading: 11 ...\n",
      "Loading: 12 ...\n",
      "Loading: 13 ...\n",
      "Loading: 14 ...\n",
      "Loading: 15 ...\n",
      "Loading: 16 ...\n",
      "Loading: 17 ...\n",
      "Loading: 18 ...\n",
      "Loading: 19 ...\n",
      "Loading: 20 ...\n",
      "Loading: 21 ...\n",
      "Loading: 22 ...\n",
      "Loading: 23 ...\n",
      "Erro ao ler WFDBRecords\\23\\236\\JS23074: list index out of range\n",
      "Loading: 24 ...\n",
      "Loading: 25 ...\n",
      "Loading: 26 ...\n",
      "Loading: 27 ...\n",
      "Loading: 28 ...\n",
      "Loading: 29 ...\n",
      "Loading: 30 ...\n",
      "Loading: 31 ...\n",
      "Loading: 32 ...\n",
      "Loading: 33 ...\n",
      "Loading: 34 ...\n",
      "Loading: 35 ...\n",
      "Loading: 36 ...\n",
      "Loading: 37 ...\n",
      "Loading: 38 ...\n",
      "Loading: 39 ...\n",
      "Loading: 40 ...\n",
      "Loading: 41 ...\n",
      "Loading: 42 ...\n",
      "Loading: 43 ...\n",
      "Loading: 44 ...\n",
      "Loading: 45 ...\n",
      "Loading: 46 ...\n",
      "Loading: ConditionNames_SNOMED-CT.csv ...\n",
      "Loading: LICENSE.txt ...\n",
      "Loading: RECORDS.txt ...\n",
      "Loading: SHA256SUMS.txt ...\n",
      "  record_id                                             signal\n",
      "0   JS00001  [-0.254, -0.254, -0.254, -0.254, -0.264, -0.27...\n",
      "1   JS00002  [-0.01, -0.024, -0.02, 0.01, 0.01, -0.029, -0....\n",
      "2   JS00004  [0.195, 0.195, 0.195, 0.195, 0.176, 0.166, 0.1...\n",
      "3   JS00005  [0.005, 0.005, -0.015, -0.005, -0.005, -0.049,...\n",
      "4   JS00006  [-0.029, -0.029, -0.029, -0.029, -0.034, -0.03...\n",
      "Total de registos carregados: 45150\n"
     ]
    }
   ],
   "execution_count": 4
  },
  {
   "metadata": {
    "ExecuteTime": {
     "end_time": "2025-04-24T16:35:50.459797Z",
     "start_time": "2025-04-24T16:34:54.720558Z"
    }
   },
   "cell_type": "code",
   "source": [
    "# save pickle\n",
    "df_ecg.to_pickle(\"data/processed/df_import.pkl\")"
   ],
   "id": "7ca7ced0226a6e9f",
   "outputs": [],
   "execution_count": 5
  },
  {
   "metadata": {
    "ExecuteTime": {
     "end_time": "2025-04-24T16:45:24.525278Z",
     "start_time": "2025-04-24T16:43:32.851836Z"
    }
   },
   "cell_type": "code",
   "source": [
    "# 1. Ler o mapeamento SNOMED → acrónimo\n",
    "df_map = pd.read_csv(\"../data/WFDBRecords/ConditionNames_SNOMED-CT.csv\")\n",
    "snomed_to_acronym = dict(zip(df_map[\"Snomed_CT\"].astype(str), df_map[\"Acronym Name\"]))\n",
    "\n",
    "# 2. Inicializar colunas\n",
    "idades = []\n",
    "sexos = []\n",
    "diagnosticos_acronyms = []\n",
    "\n",
    "# 3. Extrair info de cada header\n",
    "# Pré-processamento: criar dicionário {record_id: path_para_o_arquivo}\n",
    "hea_paths = {}\n",
    "for root, dirs, files in os.walk(base_path):\n",
    "    for file in files:\n",
    "        if file.endswith(\".hea\"):\n",
    "            record_id = file.replace(\".hea\", \"\")\n",
    "            hea_paths[record_id] = os.path.join(root, record_id)\n",
    "\n",
    "for idx, row in df_ecg.iterrows():\n",
    "    record_id = row[\"record_id\"]\n",
    "    path = hea_paths.get(record_id)\n",
    "\n",
    "    if path:\n",
    "        try:\n",
    "            header = wfdb.rdheader(path)\n",
    "            com = {c.split(\":\")[0].strip(): c.split(\":\")[1].strip() for c in header.comments if \":\" in c}\n",
    "\n",
    "            idades.append(int(com.get(\"Age\", -1)))\n",
    "            sexos.append(com.get(\"Sex\", None))\n",
    "\n",
    "            dx_codes = com.get(\"Dx\", \"\").split(\",\") if \"Dx\" in com else []\n",
    "            acronyms = [snomed_to_acronym.get(code.strip(), f\"UNKNOWN_{code.strip()}\") for code in dx_codes]\n",
    "            diagnosticos_acronyms.append(acronyms)\n",
    "\n",
    "        except Exception as e:\n",
    "            print(f\"Erro ao ler header de {record_id}: {e}\")\n",
    "            idades.append(None)\n",
    "            sexos.append(None)\n",
    "            diagnosticos_acronyms.append([])\n",
    "    else:\n",
    "        idades.append(None)\n",
    "        sexos.append(None)\n",
    "        diagnosticos_acronyms.append([])\n",
    "\n",
    "# 4. Adicionar ao DataFrame\n",
    "df_ecg[\"age\"] = idades\n",
    "df_ecg[\"sex\"] = sexos\n",
    "df_ecg[\"diagnosticos\"] = diagnosticos_acronyms\n",
    "\n",
    "# Mostrar os primeiros\n",
    "print(df_ecg[[\"record_id\", \"age\", \"sex\", \"diagnosticos\"]].head())\n",
    "\n",
    "print(df_ecg.describe())"
   ],
   "id": "9d462ac19789f6ed",
   "outputs": [
    {
     "name": "stdout",
     "output_type": "stream",
     "text": [
      "Erro ao ler header de JS10867: invalid literal for int() with base 10: 'NaN'\n",
      "Erro ao ler header de JS11507: invalid literal for int() with base 10: 'NaN'\n",
      "Erro ao ler header de JS12543: invalid literal for int() with base 10: 'NaN'\n",
      "Erro ao ler header de JS12571: invalid literal for int() with base 10: 'NaN'\n",
      "Erro ao ler header de JS12576: invalid literal for int() with base 10: 'NaN'\n",
      "Erro ao ler header de JS12609: invalid literal for int() with base 10: 'NaN'\n",
      "Erro ao ler header de JS13024: invalid literal for int() with base 10: 'NaN'\n",
      "Erro ao ler header de JS13504: invalid literal for int() with base 10: 'NaN'\n",
      "Erro ao ler header de JS13505: invalid literal for int() with base 10: 'NaN'\n",
      "Erro ao ler header de JS13575: invalid literal for int() with base 10: 'NaN'\n",
      "Erro ao ler header de JS13583: invalid literal for int() with base 10: 'NaN'\n",
      "Erro ao ler header de JS13645: invalid literal for int() with base 10: 'NaN'\n",
      "Erro ao ler header de JS13646: invalid literal for int() with base 10: 'NaN'\n",
      "Erro ao ler header de JS13647: invalid literal for int() with base 10: 'NaN'\n",
      "Erro ao ler header de JS14027: invalid literal for int() with base 10: 'NaN'\n",
      "Erro ao ler header de JS14050: invalid literal for int() with base 10: 'NaN'\n",
      "Erro ao ler header de JS14498: invalid literal for int() with base 10: 'NaN'\n",
      "Erro ao ler header de JS14555: invalid literal for int() with base 10: 'NaN'\n",
      "Erro ao ler header de JS14995: invalid literal for int() with base 10: 'NaN'\n",
      "Erro ao ler header de JS18505: invalid literal for int() with base 10: 'NaN'\n",
      "Erro ao ler header de JS18506: invalid literal for int() with base 10: 'NaN'\n",
      "Erro ao ler header de JS18507: invalid literal for int() with base 10: 'NaN'\n",
      "Erro ao ler header de JS18508: invalid literal for int() with base 10: 'NaN'\n",
      "Erro ao ler header de JS18509: invalid literal for int() with base 10: 'NaN'\n",
      "Erro ao ler header de JS18510: invalid literal for int() with base 10: 'NaN'\n",
      "Erro ao ler header de JS18511: invalid literal for int() with base 10: 'NaN'\n",
      "Erro ao ler header de JS18512: invalid literal for int() with base 10: 'NaN'\n",
      "Erro ao ler header de JS18513: invalid literal for int() with base 10: 'NaN'\n",
      "Erro ao ler header de JS18514: invalid literal for int() with base 10: 'NaN'\n",
      "Erro ao ler header de JS18515: invalid literal for int() with base 10: 'NaN'\n",
      "Erro ao ler header de JS18574: invalid literal for int() with base 10: 'NaN'\n",
      "Erro ao ler header de JS19386: invalid literal for int() with base 10: 'NaN'\n",
      "Erro ao ler header de JS19447: invalid literal for int() with base 10: 'NaN'\n",
      "Erro ao ler header de JS22918: invalid literal for int() with base 10: 'NaN'\n",
      "Erro ao ler header de JS23063: invalid literal for int() with base 10: 'NaN'\n",
      "Erro ao ler header de JS23064: invalid literal for int() with base 10: 'NaN'\n",
      "Erro ao ler header de JS23787: invalid literal for int() with base 10: 'NaN'\n",
      "Erro ao ler header de JS24143: invalid literal for int() with base 10: 'NaN'\n",
      "Erro ao ler header de JS24144: invalid literal for int() with base 10: 'NaN'\n",
      "Erro ao ler header de JS24145: invalid literal for int() with base 10: 'NaN'\n",
      "Erro ao ler header de JS45355: invalid literal for int() with base 10: 'NaN'\n",
      "Erro ao ler header de JS45356: invalid literal for int() with base 10: 'NaN'\n",
      "Erro ao ler header de JS45357: invalid literal for int() with base 10: 'NaN'\n",
      "Erro ao ler header de JS45358: invalid literal for int() with base 10: 'NaN'\n",
      "Erro ao ler header de JS45359: invalid literal for int() with base 10: 'NaN'\n",
      "Erro ao ler header de JS45360: invalid literal for int() with base 10: 'NaN'\n",
      "Erro ao ler header de JS45361: invalid literal for int() with base 10: 'NaN'\n",
      "Erro ao ler header de JS45364: invalid literal for int() with base 10: 'NaN'\n",
      "Erro ao ler header de JS45367: invalid literal for int() with base 10: 'NaN'\n",
      "Erro ao ler header de JS45369: invalid literal for int() with base 10: 'NaN'\n",
      "Erro ao ler header de JS45370: invalid literal for int() with base 10: 'NaN'\n",
      "Erro ao ler header de JS45382: invalid literal for int() with base 10: 'NaN'\n",
      "Erro ao ler header de JS45383: invalid literal for int() with base 10: 'NaN'\n",
      "Erro ao ler header de JS45384: invalid literal for int() with base 10: 'NaN'\n",
      "Erro ao ler header de JS45385: invalid literal for int() with base 10: 'NaN'\n",
      "  record_id   age     sex       diagnosticos\n",
      "0   JS00001  85.0    Male  [AFIB, RBBB, TWC]\n",
      "1   JS00002  59.0  Female          [SB, TWC]\n",
      "2   JS00004  66.0    Male               [SB]\n",
      "3   JS00005  73.0  Female   [AF, STDD, STTC]\n",
      "4   JS00006  46.0  Female               [SB]\n",
      "                age\n",
      "count  45095.000000\n",
      "mean      58.208937\n",
      "std       19.687058\n",
      "min        0.000000\n",
      "25%       48.000000\n",
      "50%       61.000000\n",
      "75%       72.000000\n",
      "max       89.000000\n"
     ]
    }
   ],
   "execution_count": 7
  },
  {
   "metadata": {
    "ExecuteTime": {
     "end_time": "2025-04-24T16:47:28.948923Z",
     "start_time": "2025-04-24T16:47:28.902131Z"
    }
   },
   "cell_type": "code",
   "source": [
    "# Confirmar casos diagnostico unknown\n",
    "\n",
    "unknown_cases = df_ecg[df_ecg[\"diagnosticos\"].apply(lambda x: any(\"UNKNOWN\" in d for d in x))]\n",
    "print(\"Casos com diagnósticos desconhecidos:\")\n",
    "print(unknown_cases[[\"record_id\", \"diagnosticos\"]])\n",
    "# lista de codigos de diagnostico desconhecidos\n",
    "unknown_codes = set()\n",
    "for row in unknown_cases[\"diagnosticos\"]:\n",
    "    for code in row:\n",
    "        if \"UNKNOWN\" in code:\n",
    "            unknown_codes.add(code)\n",
    "\n",
    "print(\"Códigos desconhecidos:\")\n",
    "print(unknown_codes)"
   ],
   "id": "9d49a0183a70f489",
   "outputs": [
    {
     "name": "stdout",
     "output_type": "stream",
     "text": [
      "Casos com diagnósticos desconhecidos:\n",
      "      record_id                        diagnosticos\n",
      "9       JS00011              [SB, UNKNOWN_55827005]\n",
      "12      JS00014         [SB, ABI, UNKNOWN_55827005]\n",
      "23      JS00025  [SB, LFBBB, UNKNOWN_55827005, PWC]\n",
      "34      JS00038       [AFIB, UNKNOWN_55827005, VPB]\n",
      "39      JS00043       [AFIB, IVB, UNKNOWN_55827005]\n",
      "...         ...                                 ...\n",
      "45145   JS45547                 [UNKNOWN_425856008]\n",
      "45146   JS45548                 [UNKNOWN_425856008]\n",
      "45147   JS45549                 [UNKNOWN_425856008]\n",
      "45148   JS45550           [AVRT, UNKNOWN_425856008]\n",
      "45149   JS45551                 [UNKNOWN_106068003]\n",
      "\n",
      "[13152 rows x 2 columns]\n",
      "Códigos desconhecidos:\n",
      "{'UNKNOWN_164896001', 'UNKNOWN_418818005', 'UNKNOWN_426627000', 'UNKNOWN_445118002', 'UNKNOWN_251170000', 'UNKNOWN_251223006', 'UNKNOWN_6374002', 'UNKNOWN_733534002', 'UNKNOWN_251120003', 'UNKNOWN_445211001', 'UNKNOWN_67741000119109', 'UNKNOWN_713427006', 'UNKNOWN_251166008', 'UNKNOWN_426664006', 'UNKNOWN_251187003', 'UNKNOWN_63593006', 'UNKNOWN_65778007', 'UNKNOWN_67751000119106', 'UNKNOWN_446813000', 'UNKNOWN_57054005', 'UNKNOWN_77867006', 'UNKNOWN_426648003', 'UNKNOWN_29320008', 'UNKNOWN_713426002', 'UNKNOWN_5609005', 'UNKNOWN_10370003', 'UNKNOWN_365413008', 'UNKNOWN_17366009', 'UNKNOWN_81898007', 'UNKNOWN_251205003', 'UNKNOWN_426183003', 'UNKNOWN_55827005', 'UNKNOWN_61277005', 'UNKNOWN_54329005', 'UNKNOWN_111288001', 'UNKNOWN_425856008', 'UNKNOWN_55930002', 'UNKNOWN_233892002', 'UNKNOWN_106068003', 'UNKNOWN_50799005', 'UNKNOWN_49578007', 'UNKNOWN_61721007', 'UNKNOWN_427172004'}\n"
     ]
    }
   ],
   "execution_count": 10
  },
  {
   "metadata": {
    "ExecuteTime": {
     "end_time": "2025-04-24T16:50:07.573053Z",
     "start_time": "2025-04-24T16:49:32.111047Z"
    }
   },
   "cell_type": "code",
   "source": [
    "# Guardar o df como pickle para poder carregar mais tarde pelo ficheiro\n",
    "df_ecg.to_pickle(\"data/processed/df_data.pkl\")"
   ],
   "id": "4dffc69e8fa167ee",
   "outputs": [],
   "execution_count": 11
  },
  {
   "metadata": {},
   "cell_type": "code",
   "outputs": [],
   "execution_count": null,
   "source": "",
   "id": "f386b704ac3b5316"
  }
 ],
 "metadata": {
  "kernelspec": {
   "display_name": "Python 3",
   "language": "python",
   "name": "python3"
  },
  "language_info": {
   "codemirror_mode": {
    "name": "ipython",
    "version": 2
   },
   "file_extension": ".py",
   "mimetype": "text/x-python",
   "name": "python",
   "nbconvert_exporter": "python",
   "pygments_lexer": "ipython2",
   "version": "2.7.6"
  }
 },
 "nbformat": 4,
 "nbformat_minor": 5
}
